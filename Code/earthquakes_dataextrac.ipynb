{
 "cells": [
  {
   "cell_type": "code",
   "execution_count": 1,
   "source": [
    "import requests\r\n",
    "import re\r\n",
    "import os\r\n",
    "from dotenv import load_dotenv\r\n",
    "import pandas as pd\r\n",
    "import io\r\n",
    "import time\r\n",
    "from datetime import datetime, timedelta\r\n"
   ],
   "outputs": [],
   "metadata": {}
  },
  {
   "cell_type": "code",
   "execution_count": 2,
   "source": [
    "flag = 0\r\n",
    "contador = 1\r\n",
    "#&minmagnitude=4\r\n",
    "df_all = pd.DataFrame()\r\n",
    "for i in range(2020):\r\n",
    "    if i >= 2000:\r\n",
    "        for sem in range(2):\r\n",
    "            if sem == 0:\r\n",
    "                url = f'https://earthquake.usgs.gov/fdsnws/event/1/query?format=csv&starttime={i}-01-01&endtime={i}-07-01&minmagnitude=2'\r\n",
    "                # print(url,'\\n')\r\n",
    "            else:\r\n",
    "                url = f'https://earthquake.usgs.gov/fdsnws/event/1/query?format=csv&starttime={i}-07-01&endtime={i+1}-01-01&minmagnitude=2'\r\n",
    "                # print(url)\r\n",
    "            respons = requests.get(url)\r\n",
    "            if respons.status_code == 200:\r\n",
    "                cont = respons.content\r\n",
    "                df = pd.read_csv(io.StringIO(cont.decode('utf-8')))\r\n",
    "                if flag > 0:\r\n",
    "                    df_all = df_all.append(df, ignore_index=True)\r\n",
    "                else:\r\n",
    "                    df_all = df\r\n",
    "            else:\r\n",
    "                print(f'No hay respuesta del servidor')\r\n",
    "                print(url)\r\n",
    "                break\r\n",
    "            time.sleep(100)\r\n",
    "            flag = 1\r\n",
    "        # break\r\n",
    "\r\n",
    "df_all.shape"
   ],
   "outputs": [
    {
     "output_type": "stream",
     "name": "stdout",
     "text": [
      "No hay respuesta del servidor\n",
      "https://earthquake.usgs.gov/fdsnws/event/1/query?format=csv&starttime=2004-07-01&endtime=2005-01-01&minmagnitude=2\n",
      "No hay respuesta del servidor\n",
      "https://earthquake.usgs.gov/fdsnws/event/1/query?format=csv&starttime=2005-01-01&endtime=2005-07-01&minmagnitude=2\n",
      "No hay respuesta del servidor\n",
      "https://earthquake.usgs.gov/fdsnws/event/1/query?format=csv&starttime=2006-01-01&endtime=2006-07-01&minmagnitude=2\n",
      "No hay respuesta del servidor\n",
      "https://earthquake.usgs.gov/fdsnws/event/1/query?format=csv&starttime=2008-01-01&endtime=2008-07-01&minmagnitude=2\n",
      "No hay respuesta del servidor\n",
      "https://earthquake.usgs.gov/fdsnws/event/1/query?format=csv&starttime=2010-01-01&endtime=2010-07-01&minmagnitude=2\n",
      "No hay respuesta del servidor\n",
      "https://earthquake.usgs.gov/fdsnws/event/1/query?format=csv&starttime=2018-01-01&endtime=2018-07-01&minmagnitude=2\n",
      "No hay respuesta del servidor\n",
      "https://earthquake.usgs.gov/fdsnws/event/1/query?format=csv&starttime=2019-07-01&endtime=2020-01-01&minmagnitude=2\n"
     ]
    },
    {
     "output_type": "execute_result",
     "data": {
      "text/plain": [
       "(454140, 22)"
      ]
     },
     "metadata": {},
     "execution_count": 2
    }
   ],
   "metadata": {}
  },
  {
   "cell_type": "code",
   "execution_count": 35,
   "source": [
    "# \r\n",
    "# \r\n",
    "# \r\n",
    "# \r\n",
    "# \r\n",
    "# \r\n",
    "# url = 'https://earthquake.usgs.gov/fdsnws/event/1/query?format=csv&starttime=2019-10-01&endtime=2020-01-01&minmagnitude=2'\r\n",
    "# respons = requests.get(url)\r\n",
    "# if respons.status_code == 200:\r\n",
    "#     cont = respons.content\r\n",
    "#     df = pd.read_csv(io.StringIO(cont.decode('utf-8')))\r\n",
    "#     df_all = df_all.append(df, ignore_index=True)\r\n",
    "# else:\r\n",
    "#     print(f'No hay respuesta del servidor')\r\n",
    "#     print(url)"
   ],
   "outputs": [],
   "metadata": {}
  },
  {
   "cell_type": "code",
   "execution_count": 36,
   "source": [
    "df_all.shape"
   ],
   "outputs": [
    {
     "output_type": "execute_result",
     "data": {
      "text/plain": [
       "(617361, 22)"
      ]
     },
     "metadata": {},
     "execution_count": 36
    }
   ],
   "metadata": {}
  },
  {
   "cell_type": "code",
   "execution_count": 51,
   "source": [
    "df_states_usa = pd.read_csv('../Output/usa_country.csv')"
   ],
   "outputs": [],
   "metadata": {}
  },
  {
   "cell_type": "code",
   "execution_count": 52,
   "source": [
    "# Función para obtener la fecha \r\n",
    "def extraeFecha(cadena):\r\n",
    "    fechaTiempo = cadena.split('T')\r\n",
    "    return fechaTiempo[0]\r\n",
    "\r\n",
    "# extraeFecha('2003-12-30T23:52:08.630Z')"
   ],
   "outputs": [],
   "metadata": {}
  },
  {
   "cell_type": "code",
   "execution_count": 53,
   "source": [
    "#Se crea el campo fecha\r\n",
    "df_all['date'] = pd.to_datetime(df_all['time'].apply(extraeFecha), format=\"%Y-%m-%d\")"
   ],
   "outputs": [
    {
     "output_type": "error",
     "ename": "KeyError",
     "evalue": "'time'",
     "traceback": [
      "\u001b[1;31m---------------------------------------------------------------------------\u001b[0m",
      "\u001b[1;31mKeyError\u001b[0m                                  Traceback (most recent call last)",
      "\u001b[1;32mC:\\ProgramData\\Anaconda3\\lib\\site-packages\\pandas\\core\\indexes\\base.py\u001b[0m in \u001b[0;36mget_loc\u001b[1;34m(self, key, method, tolerance)\u001b[0m\n\u001b[0;32m   2894\u001b[0m             \u001b[1;32mtry\u001b[0m\u001b[1;33m:\u001b[0m\u001b[1;33m\u001b[0m\u001b[1;33m\u001b[0m\u001b[0m\n\u001b[1;32m-> 2895\u001b[1;33m                 \u001b[1;32mreturn\u001b[0m \u001b[0mself\u001b[0m\u001b[1;33m.\u001b[0m\u001b[0m_engine\u001b[0m\u001b[1;33m.\u001b[0m\u001b[0mget_loc\u001b[0m\u001b[1;33m(\u001b[0m\u001b[0mcasted_key\u001b[0m\u001b[1;33m)\u001b[0m\u001b[1;33m\u001b[0m\u001b[1;33m\u001b[0m\u001b[0m\n\u001b[0m\u001b[0;32m   2896\u001b[0m             \u001b[1;32mexcept\u001b[0m \u001b[0mKeyError\u001b[0m \u001b[1;32mas\u001b[0m \u001b[0merr\u001b[0m\u001b[1;33m:\u001b[0m\u001b[1;33m\u001b[0m\u001b[1;33m\u001b[0m\u001b[0m\n",
      "\u001b[1;32mpandas\\_libs\\index.pyx\u001b[0m in \u001b[0;36mpandas._libs.index.IndexEngine.get_loc\u001b[1;34m()\u001b[0m\n",
      "\u001b[1;32mpandas\\_libs\\index.pyx\u001b[0m in \u001b[0;36mpandas._libs.index.IndexEngine.get_loc\u001b[1;34m()\u001b[0m\n",
      "\u001b[1;32mpandas\\_libs\\hashtable_class_helper.pxi\u001b[0m in \u001b[0;36mpandas._libs.hashtable.PyObjectHashTable.get_item\u001b[1;34m()\u001b[0m\n",
      "\u001b[1;32mpandas\\_libs\\hashtable_class_helper.pxi\u001b[0m in \u001b[0;36mpandas._libs.hashtable.PyObjectHashTable.get_item\u001b[1;34m()\u001b[0m\n",
      "\u001b[1;31mKeyError\u001b[0m: 'time'",
      "\nThe above exception was the direct cause of the following exception:\n",
      "\u001b[1;31mKeyError\u001b[0m                                  Traceback (most recent call last)",
      "\u001b[1;32m<ipython-input-53-9554d45d08a2>\u001b[0m in \u001b[0;36m<module>\u001b[1;34m\u001b[0m\n\u001b[0;32m      1\u001b[0m \u001b[1;31m#Se crea el campo fecha\u001b[0m\u001b[1;33m\u001b[0m\u001b[1;33m\u001b[0m\u001b[1;33m\u001b[0m\u001b[0m\n\u001b[1;32m----> 2\u001b[1;33m \u001b[0mdf_all\u001b[0m\u001b[1;33m[\u001b[0m\u001b[1;34m'date'\u001b[0m\u001b[1;33m]\u001b[0m \u001b[1;33m=\u001b[0m \u001b[0mpd\u001b[0m\u001b[1;33m.\u001b[0m\u001b[0mto_datetime\u001b[0m\u001b[1;33m(\u001b[0m\u001b[0mdf_all\u001b[0m\u001b[1;33m[\u001b[0m\u001b[1;34m'time'\u001b[0m\u001b[1;33m]\u001b[0m\u001b[1;33m.\u001b[0m\u001b[0mapply\u001b[0m\u001b[1;33m(\u001b[0m\u001b[0mextraeFecha\u001b[0m\u001b[1;33m)\u001b[0m\u001b[1;33m,\u001b[0m \u001b[0mformat\u001b[0m\u001b[1;33m=\u001b[0m\u001b[1;34m\"%Y-%m-%d\"\u001b[0m\u001b[1;33m)\u001b[0m\u001b[1;33m\u001b[0m\u001b[1;33m\u001b[0m\u001b[0m\n\u001b[0m",
      "\u001b[1;32mC:\\ProgramData\\Anaconda3\\lib\\site-packages\\pandas\\core\\frame.py\u001b[0m in \u001b[0;36m__getitem__\u001b[1;34m(self, key)\u001b[0m\n\u001b[0;32m   2900\u001b[0m             \u001b[1;32mif\u001b[0m \u001b[0mself\u001b[0m\u001b[1;33m.\u001b[0m\u001b[0mcolumns\u001b[0m\u001b[1;33m.\u001b[0m\u001b[0mnlevels\u001b[0m \u001b[1;33m>\u001b[0m \u001b[1;36m1\u001b[0m\u001b[1;33m:\u001b[0m\u001b[1;33m\u001b[0m\u001b[1;33m\u001b[0m\u001b[0m\n\u001b[0;32m   2901\u001b[0m                 \u001b[1;32mreturn\u001b[0m \u001b[0mself\u001b[0m\u001b[1;33m.\u001b[0m\u001b[0m_getitem_multilevel\u001b[0m\u001b[1;33m(\u001b[0m\u001b[0mkey\u001b[0m\u001b[1;33m)\u001b[0m\u001b[1;33m\u001b[0m\u001b[1;33m\u001b[0m\u001b[0m\n\u001b[1;32m-> 2902\u001b[1;33m             \u001b[0mindexer\u001b[0m \u001b[1;33m=\u001b[0m \u001b[0mself\u001b[0m\u001b[1;33m.\u001b[0m\u001b[0mcolumns\u001b[0m\u001b[1;33m.\u001b[0m\u001b[0mget_loc\u001b[0m\u001b[1;33m(\u001b[0m\u001b[0mkey\u001b[0m\u001b[1;33m)\u001b[0m\u001b[1;33m\u001b[0m\u001b[1;33m\u001b[0m\u001b[0m\n\u001b[0m\u001b[0;32m   2903\u001b[0m             \u001b[1;32mif\u001b[0m \u001b[0mis_integer\u001b[0m\u001b[1;33m(\u001b[0m\u001b[0mindexer\u001b[0m\u001b[1;33m)\u001b[0m\u001b[1;33m:\u001b[0m\u001b[1;33m\u001b[0m\u001b[1;33m\u001b[0m\u001b[0m\n\u001b[0;32m   2904\u001b[0m                 \u001b[0mindexer\u001b[0m \u001b[1;33m=\u001b[0m \u001b[1;33m[\u001b[0m\u001b[0mindexer\u001b[0m\u001b[1;33m]\u001b[0m\u001b[1;33m\u001b[0m\u001b[1;33m\u001b[0m\u001b[0m\n",
      "\u001b[1;32mC:\\ProgramData\\Anaconda3\\lib\\site-packages\\pandas\\core\\indexes\\base.py\u001b[0m in \u001b[0;36mget_loc\u001b[1;34m(self, key, method, tolerance)\u001b[0m\n\u001b[0;32m   2895\u001b[0m                 \u001b[1;32mreturn\u001b[0m \u001b[0mself\u001b[0m\u001b[1;33m.\u001b[0m\u001b[0m_engine\u001b[0m\u001b[1;33m.\u001b[0m\u001b[0mget_loc\u001b[0m\u001b[1;33m(\u001b[0m\u001b[0mcasted_key\u001b[0m\u001b[1;33m)\u001b[0m\u001b[1;33m\u001b[0m\u001b[1;33m\u001b[0m\u001b[0m\n\u001b[0;32m   2896\u001b[0m             \u001b[1;32mexcept\u001b[0m \u001b[0mKeyError\u001b[0m \u001b[1;32mas\u001b[0m \u001b[0merr\u001b[0m\u001b[1;33m:\u001b[0m\u001b[1;33m\u001b[0m\u001b[1;33m\u001b[0m\u001b[0m\n\u001b[1;32m-> 2897\u001b[1;33m                 \u001b[1;32mraise\u001b[0m \u001b[0mKeyError\u001b[0m\u001b[1;33m(\u001b[0m\u001b[0mkey\u001b[0m\u001b[1;33m)\u001b[0m \u001b[1;32mfrom\u001b[0m \u001b[0merr\u001b[0m\u001b[1;33m\u001b[0m\u001b[1;33m\u001b[0m\u001b[0m\n\u001b[0m\u001b[0;32m   2898\u001b[0m \u001b[1;33m\u001b[0m\u001b[0m\n\u001b[0;32m   2899\u001b[0m         \u001b[1;32mif\u001b[0m \u001b[0mtolerance\u001b[0m \u001b[1;32mis\u001b[0m \u001b[1;32mnot\u001b[0m \u001b[1;32mNone\u001b[0m\u001b[1;33m:\u001b[0m\u001b[1;33m\u001b[0m\u001b[1;33m\u001b[0m\u001b[0m\n",
      "\u001b[1;31mKeyError\u001b[0m: 'time'"
     ]
    }
   ],
   "metadata": {}
  },
  {
   "cell_type": "code",
   "execution_count": 40,
   "source": [
    "# Función para extraer el país del campo PLACE\r\n",
    "def extract_country(place):\r\n",
    "    if place == '':\r\n",
    "        country = 'No_Country'\r\n",
    "    else:\r\n",
    "        place_split = place.split(',')\r\n",
    "        if len(place_split) > 1:\r\n",
    "            country = place_split[1]\r\n",
    "        else:\r\n",
    "            country = 'No_Country'\r\n",
    "        \r\n",
    "    return country.strip().upper()"
   ],
   "outputs": [],
   "metadata": {}
  },
  {
   "cell_type": "code",
   "execution_count": 41,
   "source": [
    "# Se crea el campo PAIS  obteniendo el mismo del campo PLACE\r\n",
    "df_all['place'].fillna('',inplace = True)\r\n",
    "df_all['Country'] = df_all['place'].apply(extract_country)"
   ],
   "outputs": [],
   "metadata": {}
  },
  {
   "cell_type": "code",
   "execution_count": 54,
   "source": [
    "# Se cambian los nombres de los estados por USA\r\n",
    "for e in df_states_usa.index:\r\n",
    "    state = df_states_usa['State'][e]\r\n",
    "    df_all.loc[(df_all['Country'] == state.upper()), 'Country'] = 'USA'"
   ],
   "outputs": [],
   "metadata": {}
  },
  {
   "cell_type": "code",
   "execution_count": null,
   "source": [
    "# Leer archivos\r\n",
    "# df_all = pd.read_csv('..\\Output\\earthquaqkes_all.csv')\r\n",
    "# df_mexico = pd.read_csv('..\\Output\\earthquaqkes_all_mexico.csv')"
   ],
   "outputs": [],
   "metadata": {}
  },
  {
   "cell_type": "code",
   "execution_count": 43,
   "source": [
    "# Renombrar columnas\r\n",
    "columns_array = {'mag':'Magnitud','depth':'Depth','country':'Country','date':'Date','latitude':'Latitude','longitude':'Longitude'}\r\n",
    "df_all.rename(columns=columns_array, inplace = True)"
   ],
   "outputs": [],
   "metadata": {}
  },
  {
   "cell_type": "code",
   "execution_count": 44,
   "source": [
    "# Convertir a mayúsculas nombres de paises\r\n",
    "df_all['Country'] = df_all['Country'].apply(lambda x: x.upper())"
   ],
   "outputs": [],
   "metadata": {}
  },
  {
   "cell_type": "code",
   "execution_count": 45,
   "source": [
    "# Se genera la columna de año\r\n",
    "df_all['Year'] = pd.to_datetime(df_all['Date'], format=\"%Y-%m-%d\").dt.year"
   ],
   "outputs": [],
   "metadata": {}
  },
  {
   "cell_type": "code",
   "execution_count": null,
   "source": [
    "df_all.head()"
   ],
   "outputs": [],
   "metadata": {}
  },
  {
   "cell_type": "code",
   "execution_count": 46,
   "source": [
    "# filtra solo las columnas que se requieren para el modelo \r\n",
    "df_all = df_all[df_all['type'] == 'earthquake'][['Latitude','Longitude','Depth','Magnitud','Date','Country','Year']]\r\n",
    "# 'latitude','longitude','depth','mag','date','country'\r\n",
    "# Se deben agregar con el otro proceso Region, Density y IDH\r\n",
    "# Estas columnas se agregan con el procedimiento de modelado Death_Cat, Injuries_Cat, Damage_Cat"
   ],
   "outputs": [],
   "metadata": {}
  },
  {
   "cell_type": "code",
   "execution_count": 47,
   "source": [
    "df_all.head()"
   ],
   "outputs": [
    {
     "output_type": "execute_result",
     "data": {
      "text/html": [
       "<div>\n",
       "<style scoped>\n",
       "    .dataframe tbody tr th:only-of-type {\n",
       "        vertical-align: middle;\n",
       "    }\n",
       "\n",
       "    .dataframe tbody tr th {\n",
       "        vertical-align: top;\n",
       "    }\n",
       "\n",
       "    .dataframe thead th {\n",
       "        text-align: right;\n",
       "    }\n",
       "</style>\n",
       "<table border=\"1\" class=\"dataframe\">\n",
       "  <thead>\n",
       "    <tr style=\"text-align: right;\">\n",
       "      <th></th>\n",
       "      <th>Latitude</th>\n",
       "      <th>Longitude</th>\n",
       "      <th>Depth</th>\n",
       "      <th>Magnitud</th>\n",
       "      <th>Date</th>\n",
       "      <th>Country</th>\n",
       "      <th>Year</th>\n",
       "    </tr>\n",
       "  </thead>\n",
       "  <tbody>\n",
       "    <tr>\n",
       "      <th>0</th>\n",
       "      <td>44.269</td>\n",
       "      <td>146.265</td>\n",
       "      <td>72.9</td>\n",
       "      <td>4.9</td>\n",
       "      <td>2000-06-30</td>\n",
       "      <td>RUSSIA</td>\n",
       "      <td>2000</td>\n",
       "    </tr>\n",
       "    <tr>\n",
       "      <th>1</th>\n",
       "      <td>-39.230</td>\n",
       "      <td>177.470</td>\n",
       "      <td>36.0</td>\n",
       "      <td>3.4</td>\n",
       "      <td>2000-06-30</td>\n",
       "      <td>NEW ZEALAND</td>\n",
       "      <td>2000</td>\n",
       "    </tr>\n",
       "    <tr>\n",
       "      <th>2</th>\n",
       "      <td>50.666</td>\n",
       "      <td>6.124</td>\n",
       "      <td>12.6</td>\n",
       "      <td>2.6</td>\n",
       "      <td>2000-06-30</td>\n",
       "      <td>BELGIUM</td>\n",
       "      <td>2000</td>\n",
       "    </tr>\n",
       "    <tr>\n",
       "      <th>4</th>\n",
       "      <td>37.399</td>\n",
       "      <td>141.503</td>\n",
       "      <td>42.1</td>\n",
       "      <td>5.4</td>\n",
       "      <td>2000-06-30</td>\n",
       "      <td>JAPAN</td>\n",
       "      <td>2000</td>\n",
       "    </tr>\n",
       "    <tr>\n",
       "      <th>5</th>\n",
       "      <td>-3.272</td>\n",
       "      <td>138.539</td>\n",
       "      <td>33.0</td>\n",
       "      <td>3.7</td>\n",
       "      <td>2000-06-30</td>\n",
       "      <td>INDONESIA</td>\n",
       "      <td>2000</td>\n",
       "    </tr>\n",
       "  </tbody>\n",
       "</table>\n",
       "</div>"
      ],
      "text/plain": [
       "   Latitude  Longitude  Depth  Magnitud       Date      Country  Year\n",
       "0    44.269    146.265   72.9       4.9 2000-06-30       RUSSIA  2000\n",
       "1   -39.230    177.470   36.0       3.4 2000-06-30  NEW ZEALAND  2000\n",
       "2    50.666      6.124   12.6       2.6 2000-06-30      BELGIUM  2000\n",
       "4    37.399    141.503   42.1       5.4 2000-06-30        JAPAN  2000\n",
       "5    -3.272    138.539   33.0       3.7 2000-06-30    INDONESIA  2000"
      ]
     },
     "metadata": {},
     "execution_count": 47
    }
   ],
   "metadata": {}
  },
  {
   "cell_type": "code",
   "execution_count": 48,
   "source": [
    "#Obtiene los registros de Mexico\r\n",
    "df_mexico = df_all[df_all['Country'] == 'MEXICO']\r\n",
    "df_mexico.head()"
   ],
   "outputs": [
    {
     "output_type": "execute_result",
     "data": {
      "text/html": [
       "<div>\n",
       "<style scoped>\n",
       "    .dataframe tbody tr th:only-of-type {\n",
       "        vertical-align: middle;\n",
       "    }\n",
       "\n",
       "    .dataframe tbody tr th {\n",
       "        vertical-align: top;\n",
       "    }\n",
       "\n",
       "    .dataframe thead th {\n",
       "        text-align: right;\n",
       "    }\n",
       "</style>\n",
       "<table border=\"1\" class=\"dataframe\">\n",
       "  <thead>\n",
       "    <tr style=\"text-align: right;\">\n",
       "      <th></th>\n",
       "      <th>Latitude</th>\n",
       "      <th>Longitude</th>\n",
       "      <th>Depth</th>\n",
       "      <th>Magnitud</th>\n",
       "      <th>Date</th>\n",
       "      <th>Country</th>\n",
       "      <th>Year</th>\n",
       "    </tr>\n",
       "  </thead>\n",
       "  <tbody>\n",
       "    <tr>\n",
       "      <th>23</th>\n",
       "      <td>17.928</td>\n",
       "      <td>-102.953</td>\n",
       "      <td>30.6</td>\n",
       "      <td>4.4</td>\n",
       "      <td>2000-06-30</td>\n",
       "      <td>MEXICO</td>\n",
       "      <td>2000</td>\n",
       "    </tr>\n",
       "    <tr>\n",
       "      <th>25</th>\n",
       "      <td>17.014</td>\n",
       "      <td>-100.317</td>\n",
       "      <td>74.0</td>\n",
       "      <td>3.9</td>\n",
       "      <td>2000-06-30</td>\n",
       "      <td>MEXICO</td>\n",
       "      <td>2000</td>\n",
       "    </tr>\n",
       "    <tr>\n",
       "      <th>214</th>\n",
       "      <td>17.921</td>\n",
       "      <td>-100.476</td>\n",
       "      <td>78.4</td>\n",
       "      <td>3.7</td>\n",
       "      <td>2000-06-28</td>\n",
       "      <td>MEXICO</td>\n",
       "      <td>2000</td>\n",
       "    </tr>\n",
       "    <tr>\n",
       "      <th>369</th>\n",
       "      <td>20.723</td>\n",
       "      <td>-99.483</td>\n",
       "      <td>14.0</td>\n",
       "      <td>3.4</td>\n",
       "      <td>2000-06-26</td>\n",
       "      <td>MEXICO</td>\n",
       "      <td>2000</td>\n",
       "    </tr>\n",
       "    <tr>\n",
       "      <th>371</th>\n",
       "      <td>16.231</td>\n",
       "      <td>-98.051</td>\n",
       "      <td>8.0</td>\n",
       "      <td>3.8</td>\n",
       "      <td>2000-06-26</td>\n",
       "      <td>MEXICO</td>\n",
       "      <td>2000</td>\n",
       "    </tr>\n",
       "  </tbody>\n",
       "</table>\n",
       "</div>"
      ],
      "text/plain": [
       "     Latitude  Longitude  Depth  Magnitud       Date Country  Year\n",
       "23     17.928   -102.953   30.6       4.4 2000-06-30  MEXICO  2000\n",
       "25     17.014   -100.317   74.0       3.9 2000-06-30  MEXICO  2000\n",
       "214    17.921   -100.476   78.4       3.7 2000-06-28  MEXICO  2000\n",
       "369    20.723    -99.483   14.0       3.4 2000-06-26  MEXICO  2000\n",
       "371    16.231    -98.051    8.0       3.8 2000-06-26  MEXICO  2000"
      ]
     },
     "metadata": {},
     "execution_count": 48
    }
   ],
   "metadata": {}
  },
  {
   "cell_type": "code",
   "execution_count": null,
   "source": [
    "df_mexico['Date'].max()"
   ],
   "outputs": [],
   "metadata": {}
  },
  {
   "cell_type": "code",
   "execution_count": 55,
   "source": [
    "# Eliminación registros duplicados\r\n",
    "df_all.drop_duplicates()\r\n",
    "# Se guarda la informacion de todos los eventos desde 2000 hasta 2019\r\n",
    "df_all.to_csv('..\\Output\\earthquaqkes_all_clean.csv', index=False)\r\n",
    "df_mexico.to_csv('..\\Output\\earthquaqkes_all_mexico_clean.csv', index=False)"
   ],
   "outputs": [],
   "metadata": {}
  },
  {
   "cell_type": "code",
   "execution_count": null,
   "source": [],
   "outputs": [],
   "metadata": {}
  },
  {
   "cell_type": "code",
   "execution_count": null,
   "source": [],
   "outputs": [],
   "metadata": {}
  },
  {
   "cell_type": "code",
   "execution_count": null,
   "source": [],
   "outputs": [],
   "metadata": {}
  },
  {
   "cell_type": "code",
   "execution_count": null,
   "source": [],
   "outputs": [],
   "metadata": {}
  },
  {
   "cell_type": "code",
   "execution_count": null,
   "source": [],
   "outputs": [],
   "metadata": {}
  }
 ],
 "metadata": {
  "orig_nbformat": 4,
  "language_info": {
   "name": "python",
   "version": "3.8.5",
   "mimetype": "text/x-python",
   "codemirror_mode": {
    "name": "ipython",
    "version": 3
   },
   "pygments_lexer": "ipython3",
   "nbconvert_exporter": "python",
   "file_extension": ".py"
  },
  "kernelspec": {
   "name": "python3",
   "display_name": "Python 3.8.5 64-bit ('base': conda)"
  },
  "interpreter": {
   "hash": "b3ba2566441a7c06988d0923437866b63cedc61552a5af99d1f4fb67d367b25f"
  }
 },
 "nbformat": 4,
 "nbformat_minor": 2
}